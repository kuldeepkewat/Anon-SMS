{
  "nbformat": 4,
  "nbformat_minor": 0,
  "metadata": {
    "colab": {
      "name": "Untitled6.ipynb",
      "provenance": [],
      "collapsed_sections": [],
      "authorship_tag": "ABX9TyN16LJ+2038sGFMcaRDZpSC",
      "include_colab_link": true
    },
    "kernelspec": {
      "name": "python3",
      "display_name": "Python 3"
    },
    "language_info": {
      "name": "python"
    }
  },
  "cells": [
    {
      "cell_type": "markdown",
      "metadata": {
        "id": "view-in-github",
        "colab_type": "text"
      },
      "source": [
        "<a href=\"https://colab.research.google.com/github/kuldeepkewat/Anon-SMS/blob/master/Untitled6.ipynb\" target=\"_parent\"><img src=\"https://colab.research.google.com/assets/colab-badge.svg\" alt=\"Open In Colab\"/></a>"
      ]
    },
    {
      "cell_type": "code",
      "execution_count": 37,
      "metadata": {
        "colab": {
          "base_uri": "https://localhost:8080/",
          "height": 356
        },
        "id": "4moqz8M_cYsl",
        "outputId": "d3391055-c723-4285-9b93-dc7d5848e3db"
      },
      "outputs": [
        {
          "output_type": "error",
          "ename": "NameError",
          "evalue": "ignored",
          "traceback": [
            "\u001b[0;31m---------------------------------------------------------------------------\u001b[0m",
            "\u001b[0;31mNameError\u001b[0m                                 Traceback (most recent call last)",
            "\u001b[0;32m<ipython-input-37-06b4453e443a>\u001b[0m in \u001b[0;36m<module>\u001b[0;34m()\u001b[0m\n\u001b[1;32m     44\u001b[0m \u001b[0;34m\u001b[0m\u001b[0m\n\u001b[1;32m     45\u001b[0m \u001b[0;31m# list1.delete_atmid(\"Tue\")\u001b[0m\u001b[0;34m\u001b[0m\u001b[0;34m\u001b[0m\u001b[0;34m\u001b[0m\u001b[0m\n\u001b[0;32m---> 46\u001b[0;31m \u001b[0mlist1\u001b[0m\u001b[0;34m.\u001b[0m\u001b[0mdelete_atbegin\u001b[0m\u001b[0;34m(\u001b[0m\u001b[0;34m)\u001b[0m\u001b[0;34m\u001b[0m\u001b[0;34m\u001b[0m\u001b[0m\n\u001b[0m\u001b[1;32m     47\u001b[0m \u001b[0mlist1\u001b[0m\u001b[0;34m.\u001b[0m\u001b[0mprintlist\u001b[0m\u001b[0;34m(\u001b[0m\u001b[0;34m)\u001b[0m\u001b[0;34m\u001b[0m\u001b[0;34m\u001b[0m\u001b[0m\n\u001b[1;32m     48\u001b[0m \u001b[0;34m\u001b[0m\u001b[0m\n",
            "\u001b[0;32m<ipython-input-37-06b4453e443a>\u001b[0m in \u001b[0;36mdelete_atbegin\u001b[0;34m(self)\u001b[0m\n\u001b[1;32m     28\u001b[0m     \u001b[0;32mif\u001b[0m \u001b[0mself\u001b[0m\u001b[0;34m.\u001b[0m\u001b[0mheadval\u001b[0m \u001b[0;32mis\u001b[0m \u001b[0;32mnot\u001b[0m \u001b[0;32mNone\u001b[0m\u001b[0;34m:\u001b[0m\u001b[0;34m\u001b[0m\u001b[0;34m\u001b[0m\u001b[0m\n\u001b[1;32m     29\u001b[0m       \u001b[0mtemp\u001b[0m \u001b[0;34m=\u001b[0m \u001b[0mself\u001b[0m\u001b[0;34m.\u001b[0m\u001b[0mheadval\u001b[0m\u001b[0;34m\u001b[0m\u001b[0;34m\u001b[0m\u001b[0m\n\u001b[0;32m---> 30\u001b[0;31m       \u001b[0mself\u001b[0m\u001b[0;34m.\u001b[0m\u001b[0mheadval\u001b[0m \u001b[0;34m=\u001b[0m \u001b[0mheadval\u001b[0m\u001b[0;34m.\u001b[0m\u001b[0mnextval\u001b[0m\u001b[0;34m\u001b[0m\u001b[0;34m\u001b[0m\u001b[0m\n\u001b[0m\u001b[1;32m     31\u001b[0m       \u001b[0mself\u001b[0m\u001b[0;34m.\u001b[0m\u001b[0mheadval\u001b[0m\u001b[0;34m=\u001b[0m\u001b[0mnextval\u001b[0m\u001b[0;34m\u001b[0m\u001b[0;34m\u001b[0m\u001b[0m\n\u001b[1;32m     32\u001b[0m       \u001b[0;32mreturn\u001b[0m \u001b[0mnextval\u001b[0m\u001b[0;34m\u001b[0m\u001b[0;34m\u001b[0m\u001b[0m\n",
            "\u001b[0;31mNameError\u001b[0m: name 'headval' is not defined"
          ]
        }
      ],
      "source": [
        "class Node:\n",
        "  def __init__(self,dataval=None):\n",
        "    self.dataval=dataval\n",
        "    self.nextval=None\n",
        "class SLinkedList:\n",
        "  def __init__(self):\n",
        "    self.headval=None\n",
        "\n",
        "  def printlist(self):\n",
        "    printval=self.headval\n",
        "    while printval is not None:\n",
        "      print(printval.dataval)\n",
        "      printval=printval.nextval\n",
        "\n",
        "  def delete_atmid(self,x):\n",
        "  \n",
        "    n=self.headval\n",
        "    while n.nextval.dataval is not None:\n",
        "      if n.nextval.dataval==x:\n",
        "        break\n",
        "      n = n.nextval\n",
        "    if n.nextval is None:\n",
        "      print(\"Node is Not present\")\n",
        "    else:\n",
        "      n.nextval=n.nextval.nextval\n",
        "\n",
        "  def delete_atbegin(self):\n",
        "    if self.headval is not None:\n",
        "      temp = self.headval\n",
        "      self.headval = headval.nextval\n",
        "      self.headval=nextval\n",
        "      return nextval\n",
        "\n",
        "\n",
        "\n",
        "\n",
        "\n",
        "list1=SLinkedList()\n",
        "list1.headval=Node(\"Mon\")\n",
        "e2=Node(\"Tue\")\n",
        "e3=Node(\"Wed\")\n",
        "list1.headval.nextval=e2\n",
        "e2.nextval=e3\n",
        "\n",
        "# list1.delete_atmid(\"Tue\")\n",
        "list1.delete_atbegin()\n",
        "list1.printlist()\n",
        "\n",
        "\n"
      ]
    }
  ]
}