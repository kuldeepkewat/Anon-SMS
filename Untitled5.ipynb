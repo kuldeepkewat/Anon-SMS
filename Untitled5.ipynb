{
  "nbformat": 4,
  "nbformat_minor": 0,
  "metadata": {
    "colab": {
      "name": "Untitled5.ipynb",
      "provenance": [],
      "authorship_tag": "ABX9TyOyAVbG0gj8aB/F+QZmNz8u",
      "include_colab_link": true
    },
    "kernelspec": {
      "name": "python3",
      "display_name": "Python 3"
    },
    "language_info": {
      "name": "python"
    }
  },
  "cells": [
    {
      "cell_type": "markdown",
      "metadata": {
        "id": "view-in-github",
        "colab_type": "text"
      },
      "source": [
        "<a href=\"https://colab.research.google.com/github/kuldeepkewat/Anon-SMS/blob/master/Untitled5.ipynb\" target=\"_parent\"><img src=\"https://colab.research.google.com/assets/colab-badge.svg\" alt=\"Open In Colab\"/></a>"
      ]
    },
    {
      "cell_type": "code",
      "execution_count": 15,
      "metadata": {
        "colab": {
          "base_uri": "https://localhost:8080/"
        },
        "id": "ikljpB0LbwAV",
        "outputId": "fa179b51-4fb8-456b-ce60-cbedfd2d971a"
      },
      "outputs": [
        {
          "output_type": "stream",
          "name": "stdout",
          "text": [
            "[['Mon' '6' '12' '6' '12']\n",
            " ['Tue' '6' '12' '6' '12']\n",
            " ['wed' '6' '12' '6' '12']\n",
            " ['thu' '6' '12' '6' '12']]\n",
            "[['Mon' '6' '12' '6' '12']\n",
            " ['Tue' '6' '12' '6' '12']\n",
            " ['wed' '6' '12' '6' '12']\n",
            " ['thu' '6' '12' '6' '12']\n",
            " ['Fri' '6' '12' '6' '12']]\n",
            "[['Mon' '6' '12' '6' '12' '16']\n",
            " ['Tue' '6' '12' '6' '12' '16']\n",
            " ['wed' '6' '12' '6' '12' '16']\n",
            " ['thu' '6' '12' '6' '12' '16']\n",
            " ['Fri' '6' '12' '6' '12' '16']]\n"
          ]
        },
        {
          "output_type": "execute_result",
          "data": {
            "text/plain": [
              "array([['6', '12', '6', '12', '16'],\n",
              "       ['6', '12', '6', '12', '16'],\n",
              "       ['6', '12', '6', '12', '16'],\n",
              "       ['6', '12', '6', '12', '16'],\n",
              "       ['6', '12', '6', '12', '16']], dtype='<U21')"
            ]
          },
          "metadata": {},
          "execution_count": 15
        }
      ],
      "source": [
        "from numpy import*\n",
        "a=array([\n",
        "        [\"Mon\",6,12,6,12],\n",
        "        [\"Tue\",6,12,6,12],\n",
        "        [\"wed\",6,12,6,12],\n",
        "        [\"thu\",6,12,6,12]\n",
        "])\n",
        "m=reshape(a,(4,5))\n",
        "print(m)\n",
        "b=append(m,[[\"Fri\",6,12,6,12]],0)\n",
        "print(b)\n",
        "c=insert(b,[5],[[16],[16],[16],[16],[16]],1)\n",
        "print(c)\n",
        "delete(c,[0],0)\n",
        "delete(c,[0],1)"
      ]
    },
    {
      "cell_type": "code",
      "source": [
        "class priorityqueue:\n",
        "  def __init(self):\n",
        "    self.queue=[]\n",
        "  \n",
        "  def __str__(self):\n",
        "    return\n",
        "             "
      ],
      "metadata": {
        "id": "hYgLQfvonsvR"
      },
      "execution_count": null,
      "outputs": []
    }
  ]
}