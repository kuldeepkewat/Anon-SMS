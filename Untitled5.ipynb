{
  "nbformat": 4,
  "nbformat_minor": 0,
  "metadata": {
    "colab": {
      "name": "Untitled5.ipynb",
      "provenance": [],
      "authorship_tag": "ABX9TyP8IXefF6a6DD613uyjJ7l8",
      "include_colab_link": true
    },
    "kernelspec": {
      "name": "python3",
      "display_name": "Python 3"
    },
    "language_info": {
      "name": "python"
    }
  },
  "cells": [
    {
      "cell_type": "markdown",
      "metadata": {
        "id": "view-in-github",
        "colab_type": "text"
      },
      "source": [
        "<a href=\"https://colab.research.google.com/github/kuldeepkewat/Anon-SMS/blob/master/Untitled5.ipynb\" target=\"_parent\"><img src=\"https://colab.research.google.com/assets/colab-badge.svg\" alt=\"Open In Colab\"/></a>"
      ]
    },
    {
      "cell_type": "code",
      "execution_count": 25,
      "metadata": {
        "colab": {
          "base_uri": "https://localhost:8080/"
        },
        "id": "ikljpB0LbwAV",
        "outputId": "6f5ba753-717f-4453-a20f-82d9667107fe"
      },
      "outputs": [
        {
          "output_type": "stream",
          "name": "stdout",
          "text": [
            "[['Mon' '6' '12' '6' '12']\n",
            " ['Tue' '6' '12' '6' '12']\n",
            " ['wed' '6' '12' '6' '12']\n",
            " ['thu' '6' '12' '6' '12']] [['Mon' '6' '12' '6' '12']\n",
            " ['Tue' '6' '12' '6' '12']\n",
            " ['wed' '6' '12' '6' '12']\n",
            " ['thu' '6' '12' '6' '12']\n",
            " ['Fri' '6' '12' '6' '12']]\n"
          ]
        }
      ],
      "source": [
        "from numpy import*\n",
        "a=array([\n",
        "        [\"Mon\",6,12,6,12],\n",
        "        [\"Tue\",6,12,6,12],\n",
        "        [\"wed\",6,12,6,12],\n",
        "        [\"thu\",6,12,6,12]\n",
        "])\n",
        "m=reshape(a,(4,5))\n",
        "print(m)\n",
        "b=append(m,[[\"Fri\",6,12,6,12]],0)\n",
        "print(b)\n",
        "c=insert(b,[5][\"Sat\"])"
      ]
    }
  ]
}